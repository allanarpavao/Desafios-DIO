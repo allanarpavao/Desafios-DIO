{
 "cells": [
  {
   "cell_type": "code",
   "execution_count": 9,
   "metadata": {},
   "outputs": [
    {
     "name": "stdout",
     "output_type": "stream",
     "text": [
      "Cadastro realizado com sucesso!\n",
      "O CPF já existe na lista de usuários.\n",
      "O CPF já existe na lista de usuários.\n",
      "Cadastro realizado com sucesso!\n"
     ]
    }
   ],
   "source": [
    "\n",
    "menu = \"\"\"\n",
    "[c] criar cadastro\n",
    "[d] depositar\n",
    "[s] sacar\n",
    "[e] extrato\n",
    "[l] exibir lista de usuários\n",
    "[q] sair\n",
    "\n",
    "==>\n",
    "\"\"\"\n",
    "\n",
    "#funções criadas\n",
    "import re\n",
    "\n",
    "def validar_dados(*, dado, pattern):\n",
    "    while True:\n",
    "        if re.match(pattern, dado):\n",
    "            return True, dado\n",
    "        else:\n",
    "            dado = input(\"Dado inválido. Digite novamente: \")\n",
    "\n",
    "\n",
    "def criar_usuario(lista_cadastro):\n",
    "    \n",
    "    #Validação de dados - somente números são aceitos\n",
    "    cpf_cadastro = input(\"Digite seu cpf. Somente números\")\n",
    "    cpf_padrao = r\"\\d{11}\"\n",
    "\n",
    "    cpf_cadastro = validar_dados(dado = cpf_cadastro, pattern = cpf_padrao)\n",
    "\n",
    "    cpf_existe = False\n",
    "\n",
    "    #NÃO podem existir dois cpfs iguais - validação dos dados\n",
    "    for usuario in lista_cadastro:\n",
    "        if usuario['cpf'] == cpf_cadastro:\n",
    "            cpf_existe = True\n",
    "            break\n",
    "\n",
    "    if cpf_existe:\n",
    "        print(\"O CPF já existe na lista de usuários.\")\n",
    "    else: \n",
    "        nome_cadastro = input(\"Digite seu nome: \")\n",
    "        data_nasc_cadastro = input(\"Digite sua data de nascimento. Formato válido dd-mm-aaaa\")\n",
    "        \n",
    "        ########################inserir validaçao de dados - formato do endereço\n",
    "        endereco_cadastro = input(\"Digite seu endereço. Formato válido: logradouro, nro, bairro, cidade, sigla estado\")\n",
    "        \n",
    "        #criar dicionário com dados do novo usuário\n",
    "        #usuario = [nome, data_nascimento, cpf, endereço]\n",
    "        usuario = dict(nome = nome_cadastro, data_nascimento = data_nasc_cadastro, cpf = cpf_cadastro, endereco = endereco_cadastro)\n",
    "    \n",
    "        #ao final do código, acrescentar o novo usuario a lista de usuarios preexistente\n",
    "        lista_cadastro.append(usuario)\n",
    "        print(\"Cadastro realizado com sucesso!\")\n",
    "        \n",
    "    return lista_cadastro\n",
    "\n",
    "\n",
    "def criar_conta(cpf):\n",
    "    #nro da conta aumenta de 1 em 1 partindo do 1\n",
    "    nro_conta+=1\n",
    "    conta = dict(agencia = \"0001\", nro_conta = outro, usuario = cpf)\n",
    "\n",
    "\n",
    "def listar_contas():\n",
    "    pass\n",
    "\n",
    "\n",
    "def depositar (saldo, deposito, extrato):\n",
    "    if deposito < 0:\n",
    "            print(\"Operação cancelada. O valor informado é inválido\")\n",
    "    else:\n",
    "        saldo += deposito\n",
    "        extrato += f\"Depósito de R$ {deposito:.2f}\\n\"\n",
    "        print(\"Seu saldo é R$ {:.2f}\".format(saldo))    \n",
    "    return saldo, extrato\n",
    "\n",
    "\n",
    "def sacar (*, saldo, saque, extrato, limite, numero_saques, limite_saques):\n",
    "\n",
    "    excedeu_saldo = saque > saldo\n",
    "    excedeu_limite = saque > limite\n",
    "    excedeu_num_saques = numero_saques >= limite_saques\n",
    "\n",
    "    if excedeu_num_saques:\n",
    "        print(\"Você atingiu o limite de saques diários.\")\n",
    "    \n",
    "    elif excedeu_limite:\n",
    "        print(\"Você atingiu o limite da operação de saque. Limite diário de R$500,00\")\n",
    "\n",
    "    elif excedeu_saldo:\n",
    "        print(\"Saldo insuficiente. Seu saldo é R$ {:.2f}\".format(saldo))\n",
    "        \n",
    "    elif saque > 0:\n",
    "        saldo -= saque\n",
    "        extrato += f\"Saque de R$ {saque:.2f}\\n\"\n",
    "        numero_saques += 1\n",
    "        print(\"Você sacou R$ {:.2f}. Seu saldo atual é {:.2f}\".format(saque, saldo))\n",
    "    else:\n",
    "        print(\"Operação cancelada. O valor informado é inválido\")\n",
    "\n",
    "    return saldo, extrato, numero_saques\n",
    "\n",
    "def exibir_extrato(saldo, *, extrato):\n",
    "    print(\"\\n============= EXTRATO =============\")\n",
    "    print(\"Não foram realizadas movimentações.\" if not extrato else extrato)\n",
    "    print(\"Saldo: {:.2f}\".format(saldo))\n",
    "    print(\"===================================\")\n",
    "\n",
    "\n",
    "#limites e valores predefinidos\n",
    "saldo = 0\n",
    "limite = 500\n",
    "extrato = \"\"\n",
    "num_saques = 0\n",
    "limite_saques = 3\n",
    "lista_usuarios = []\n",
    "\n",
    "\n",
    "#sistema bancário\n",
    "while True:\n",
    "\n",
    "    opcao = input(menu)\n",
    "\n",
    "    if opcao == \"d\":\n",
    "        deposito = float(input(\"Qual valor gostaria de depositar?\"))\n",
    "        saldo, extrato = depositar(saldo, deposito, extrato)\n",
    "\n",
    "    elif opcao == \"s\":\n",
    "        saque = float(input(\"Qual valor gostaria de sacar?\"))\n",
    "        saldo, extrato, num_saques = sacar(saldo = saldo, saque = saque, extrato = extrato, limite = limite, numero_saques = num_saques, limite_saques = limite_saques)\n",
    "    \n",
    "    elif opcao == \"e\":\n",
    "        extrato = exibir_extrato(saldo, extrato = extrato)\n",
    "\n",
    "    elif opcao == \"c\":\n",
    "        lista_usuarios = criar_usuario(lista_usuarios)\n",
    "\n",
    "    elif opcao == \"q\":\n",
    "        break\n",
    "\n",
    "    else:\n",
    "        print(\"Operação inválida. Por favor selecione novamente a operação desejada.\")"
   ]
  },
  {
   "cell_type": "code",
   "execution_count": 21,
   "metadata": {},
   "outputs": [
    {
     "data": {
      "text/plain": [
       "[{'nome': 'allana',\n",
       "  'data_nascimento': '28-12-1998',\n",
       "  'cpf': '12068449730',\n",
       "  'endereco': 'rua amaury, 170, recreio, rio de janeiro, rj'}]"
      ]
     },
     "execution_count": 21,
     "metadata": {},
     "output_type": "execute_result"
    }
   ],
   "source": [
    "lista_usuarios = []\n",
    "\n",
    "def criar_usuario(lista_cadastro):\n",
    "    \n",
    "    #NÃO podem existir dois cpfs iguais - validação dos dados aqui\n",
    "    cpf_cadastro = input(\"Digite seu cpf. Somente números\")\n",
    "    nome_cadastro = input(\"Digite seu nome: \")\n",
    "    data_nasc_cadastro = input(\"Digite sua data de nascimento. Formato válido dd-mm-aaaa\")\n",
    "    \n",
    "    endereco_cadastro = input(\"Digite seu endereço. Formato válido: logradouro, nro - bairro - cidade/sigla estado\")\n",
    "    #endereco_1 = \"Rua Amaury Filho, 170 - Recreio - Rio de Janeiro/RJ\"\n",
    "    \n",
    "    #criar dicionário com dados do novo usuário\n",
    "    usuario = dict(nome = nome_cadastro, data_nascimento = data_nasc_cadastro, cpf = cpf_cadastro, endereco = endereco_cadastro)\n",
    "\n",
    "    #ao final do código, acrescentar o novo usuario a lista de usuarios preexistente\n",
    "    lista_cadastro.append(usuario)\n",
    "    \n",
    "    return lista_cadastro\n",
    "\n",
    "criar_usuario(lista_usuarios)\n"
   ]
  },
  {
   "cell_type": "markdown",
   "metadata": {},
   "source": [
    "## testes"
   ]
  },
  {
   "cell_type": "code",
   "execution_count": 20,
   "metadata": {},
   "outputs": [
    {
     "name": "stdout",
     "output_type": "stream",
     "text": [
      "O CPF já existe na lista de usuários.\n"
     ]
    }
   ],
   "source": [
    "lista_usuarios = [{'nome': 'Bruno Tratorato', 'cpf': '99978549710'}, {'nome': 'Chappie Mellie', 'cpf': '33389738240'}]\n",
    "cpf = \"99978549710\"\n",
    "\n",
    "cpf_existe = False\n",
    "for usuario in lista_usuarios:\n",
    "    if usuario['cpf'] == cpf:\n",
    "        cpf_existe = True\n",
    "        break\n",
    "\n",
    "if cpf_existe:\n",
    "    print(\"O CPF já existe na lista de usuários.\")\n",
    "else:\n",
    "    print(\"O CPF não existe na lista de usuários.\")\n",
    "\n",
    "\n",
    "\n",
    "#for item in lista_usuarios:\n",
    "#    print(item['cpf'])"
   ]
  },
  {
   "cell_type": "code",
   "execution_count": 2,
   "metadata": {},
   "outputs": [],
   "source": [
    "import re\n",
    "\n",
    "def validar_dados(*, dado, pattern):\n",
    "    return re.match(pattern, dado)\n",
    "    \n",
    "\n",
    "while True:\n",
    "    cpf_cadastro = input(\"Digite seu cpf. Somente números\")\n",
    "    padrao = r\"\\d{11}\"\n",
    "\n",
    "    if validar_dados(dado = cpf_cadastro, pattern = padrao):\n",
    "        break\n",
    "    else:\n",
    "        print(\"CPF inválido. Por favor, digite novamente.\")"
   ]
  },
  {
   "cell_type": "code",
   "execution_count": 6,
   "metadata": {},
   "outputs": [
    {
     "name": "stdout",
     "output_type": "stream",
     "text": [
      "CPF válido. Obrigado!\n"
     ]
    }
   ],
   "source": [
    "def validar_dados(*, dado, pattern):\n",
    "    while True:\n",
    "        if re.match(pattern, dado):\n",
    "            return True\n",
    "        else:\n",
    "            dado = input(\"Dado inválido. Digite novamente: \")\n",
    "\n",
    "cpf_padrao = r\"\\d{11}\"\n",
    "cpf_cadastro = input(\"Digite seu CPF (apenas números): \")\n",
    "\n",
    "validar_dados(dado=cpf_cadastro, pattern=cpf_padrao)\n",
    "print(\"CPF válido. Obrigado!\")"
   ]
  },
  {
   "cell_type": "code",
   "execution_count": null,
   "metadata": {},
   "outputs": [],
   "source": []
  }
 ],
 "metadata": {
  "kernelspec": {
   "display_name": "Python 3",
   "language": "python",
   "name": "python3"
  },
  "language_info": {
   "codemirror_mode": {
    "name": "ipython",
    "version": 3
   },
   "file_extension": ".py",
   "mimetype": "text/x-python",
   "name": "python",
   "nbconvert_exporter": "python",
   "pygments_lexer": "ipython3",
   "version": "3.11.1"
  }
 },
 "nbformat": 4,
 "nbformat_minor": 2
}
